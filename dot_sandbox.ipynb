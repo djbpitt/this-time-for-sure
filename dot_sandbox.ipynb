{
 "cells": [
  {
   "cell_type": "code",
   "execution_count": 469,
   "metadata": {},
   "outputs": [
    {
     "data": {
      "text/html": [
       "<div>\n",
       "<style scoped>\n",
       "    .dataframe tbody tr th:only-of-type {\n",
       "        vertical-align: middle;\n",
       "    }\n",
       "\n",
       "    .dataframe tbody tr th {\n",
       "        vertical-align: top;\n",
       "    }\n",
       "\n",
       "    .dataframe thead th {\n",
       "        text-align: right;\n",
       "    }\n",
       "</style>\n",
       "<table border=\"1\" class=\"dataframe\">\n",
       "  <thead>\n",
       "    <tr style=\"text-align: right;\">\n",
       "      <th></th>\n",
       "      <th>unique_witnessCount</th>\n",
       "      <th>witness_uniqueness</th>\n",
       "      <th>local_witnessCount</th>\n",
       "    </tr>\n",
       "  </thead>\n",
       "  <tbody>\n",
       "    <tr>\n",
       "      <th>0</th>\n",
       "      <td>2</td>\n",
       "      <td>False</td>\n",
       "      <td>3</td>\n",
       "    </tr>\n",
       "    <tr>\n",
       "      <th>1</th>\n",
       "      <td>3</td>\n",
       "      <td>False</td>\n",
       "      <td>4</td>\n",
       "    </tr>\n",
       "    <tr>\n",
       "      <th>2</th>\n",
       "      <td>2</td>\n",
       "      <td>True</td>\n",
       "      <td>2</td>\n",
       "    </tr>\n",
       "    <tr>\n",
       "      <th>3</th>\n",
       "      <td>2</td>\n",
       "      <td>True</td>\n",
       "      <td>2</td>\n",
       "    </tr>\n",
       "    <tr>\n",
       "      <th>4</th>\n",
       "      <td>2</td>\n",
       "      <td>True</td>\n",
       "      <td>2</td>\n",
       "    </tr>\n",
       "    <tr>\n",
       "      <th>5</th>\n",
       "      <td>1</td>\n",
       "      <td>True</td>\n",
       "      <td>1</td>\n",
       "    </tr>\n",
       "  </tbody>\n",
       "</table>\n",
       "</div>"
      ],
      "text/plain": [
       "   unique_witnessCount  witness_uniqueness  local_witnessCount\n",
       "0                    2               False                   3\n",
       "1                    3               False                   4\n",
       "2                    2                True                   2\n",
       "3                    2                True                   2\n",
       "4                    2                True                   2\n",
       "5                    1                True                   1"
      ]
     },
     "execution_count": 469,
     "metadata": {},
     "output_type": "execute_result"
    }
   ],
   "source": [
    "import pandas as pd\n",
    "# unique_witnessCount should be high\n",
    "# witness_uniqueness should be True\n",
    "# local_witnessCount should be low\n",
    "df = pd.DataFrame([[2, False, 3], [3, False, 4], [2, True, 2], [2, True, 2], [2, True, 2], [1, True, 1]])\n",
    "df.columns = [\"unique_witnessCount\", \"witness_uniqueness\", \"local_witnessCount\"]\n",
    "df"
   ]
  },
  {
   "cell_type": "code",
   "execution_count": 470,
   "metadata": {},
   "outputs": [],
   "source": [
    "def step(_df: pd.DataFrame):\n",
    "    \"\"\"walk through rows grouped by priority\"\"\"\n",
    "    _top = max(_df[\"priority\"])\n",
    "    _current = _df[_df[\"priority\"] == _top] # in Real Life, so something with current ...\n",
    "    _remainder = _df[_df[\"priority\"] != _top] # ... and then continue with remainder\n",
    "    return(_current, _remainder)"
   ]
  },
  {
   "cell_type": "code",
   "execution_count": 471,
   "metadata": {},
   "outputs": [
    {
     "name": "stdout",
     "output_type": "stream",
     "text": [
      "(2,)\n"
     ]
    },
    {
     "data": {
      "text/html": [
       "<div>\n",
       "<style scoped>\n",
       "    .dataframe tbody tr th:only-of-type {\n",
       "        vertical-align: middle;\n",
       "    }\n",
       "\n",
       "    .dataframe tbody tr th {\n",
       "        vertical-align: top;\n",
       "    }\n",
       "\n",
       "    .dataframe thead th {\n",
       "        text-align: right;\n",
       "    }\n",
       "</style>\n",
       "<table border=\"1\" class=\"dataframe\">\n",
       "  <thead>\n",
       "    <tr style=\"text-align: right;\">\n",
       "      <th></th>\n",
       "      <th>unique_witnessCount</th>\n",
       "      <th>witness_uniqueness</th>\n",
       "      <th>local_witnessCount</th>\n",
       "      <th>priority</th>\n",
       "    </tr>\n",
       "  </thead>\n",
       "  <tbody>\n",
       "    <tr>\n",
       "      <th>0</th>\n",
       "      <td>2</td>\n",
       "      <td>False</td>\n",
       "      <td>3</td>\n",
       "      <td>230</td>\n",
       "    </tr>\n",
       "    <tr>\n",
       "      <th>1</th>\n",
       "      <td>3</td>\n",
       "      <td>False</td>\n",
       "      <td>4</td>\n",
       "      <td>340</td>\n",
       "    </tr>\n",
       "    <tr>\n",
       "      <th>2</th>\n",
       "      <td>2</td>\n",
       "      <td>True</td>\n",
       "      <td>2</td>\n",
       "      <td>220</td>\n",
       "    </tr>\n",
       "    <tr>\n",
       "      <th>3</th>\n",
       "      <td>2</td>\n",
       "      <td>True</td>\n",
       "      <td>2</td>\n",
       "      <td>220</td>\n",
       "    </tr>\n",
       "    <tr>\n",
       "      <th>4</th>\n",
       "      <td>2</td>\n",
       "      <td>True</td>\n",
       "      <td>2</td>\n",
       "      <td>220</td>\n",
       "    </tr>\n",
       "    <tr>\n",
       "      <th>5</th>\n",
       "      <td>1</td>\n",
       "      <td>True</td>\n",
       "      <td>1</td>\n",
       "      <td>110</td>\n",
       "    </tr>\n",
       "  </tbody>\n",
       "</table>\n",
       "</div>"
      ],
      "text/plain": [
       "   unique_witnessCount  witness_uniqueness  local_witnessCount  priority\n",
       "0                    2               False                   3       230\n",
       "1                    3               False                   4       340\n",
       "2                    2                True                   2       220\n",
       "3                    2                True                   2       220\n",
       "4                    2                True                   2       220\n",
       "5                    1                True                   1       110"
      ]
     },
     "execution_count": 471,
     "metadata": {},
     "output_type": "execute_result"
    }
   ],
   "source": [
    "scale = pd.Series([100,10])\n",
    "print(scale.shape)\n",
    "df[\"priority\"] = pd.np.dot(df[[\"unique_witnessCount\", \"local_witnessCount\"]], scale)\n",
    "df"
   ]
  },
  {
   "cell_type": "code",
   "execution_count": 472,
   "metadata": {},
   "outputs": [
    {
     "name": "stdout",
     "output_type": "stream",
     "text": [
      "\n",
      "top    unique_witnessCount  witness_uniqueness  local_witnessCount  priority\n",
      "1                    3               False                   4       340 \n",
      "remainder    unique_witnessCount  witness_uniqueness  local_witnessCount  priority\n",
      "0                    2               False                   3       230\n",
      "2                    2                True                   2       220\n",
      "3                    2                True                   2       220\n",
      "4                    2                True                   2       220\n",
      "5                    1                True                   1       110\n",
      "\n",
      "top    unique_witnessCount  witness_uniqueness  local_witnessCount  priority\n",
      "0                    2               False                   3       230 \n",
      "remainder    unique_witnessCount  witness_uniqueness  local_witnessCount  priority\n",
      "2                    2                True                   2       220\n",
      "3                    2                True                   2       220\n",
      "4                    2                True                   2       220\n",
      "5                    1                True                   1       110\n",
      "\n",
      "top    unique_witnessCount  witness_uniqueness  local_witnessCount  priority\n",
      "2                    2                True                   2       220\n",
      "3                    2                True                   2       220\n",
      "4                    2                True                   2       220 \n",
      "remainder    unique_witnessCount  witness_uniqueness  local_witnessCount  priority\n",
      "5                    1                True                   1       110\n",
      "\n",
      "top    unique_witnessCount  witness_uniqueness  local_witnessCount  priority\n",
      "5                    1                True                   1       110 \n",
      "remainder Empty DataFrame\n",
      "Columns: [unique_witnessCount, witness_uniqueness, local_witnessCount, priority]\n",
      "Index: []\n"
     ]
    }
   ],
   "source": [
    "r = df # start with full df\n",
    "while len(r) > 0:\n",
    "    (t, r) = step(r)\n",
    "    print(\"\\ntop\", t, \"\\nremainder\", r)\n"
   ]
  },
  {
   "cell_type": "code",
   "execution_count": null,
   "metadata": {},
   "outputs": [],
   "source": []
  },
  {
   "cell_type": "code",
   "execution_count": null,
   "metadata": {},
   "outputs": [],
   "source": []
  }
 ],
 "metadata": {
  "kernelspec": {
   "display_name": "Python 3",
   "language": "python",
   "name": "python3"
  },
  "language_info": {
   "codemirror_mode": {
    "name": "ipython",
    "version": 3
   },
   "file_extension": ".py",
   "mimetype": "text/x-python",
   "name": "python",
   "nbconvert_exporter": "python",
   "pygments_lexer": "ipython3",
   "version": "3.7.3"
  }
 },
 "nbformat": 4,
 "nbformat_minor": 2
}
