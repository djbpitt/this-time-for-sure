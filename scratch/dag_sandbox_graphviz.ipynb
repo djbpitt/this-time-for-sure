{
 "cells": [
  {
   "cell_type": "markdown",
   "metadata": {},
   "source": [
    "# Render graph with graphviz (not pygraphviz) bindings\n",
    "\n",
    "This sandbox example builds the graph directly as a `graphviz.Digraph()` object. Since those objects are only for rendering, and do not support, for example, general traversal, we need instead to build the graph first as a `networkx.DiGraph()` object and then copy it as a `graphviz.Digraph()` object for rendering. We do that in a different notebook."
   ]
  },
  {
   "cell_type": "code",
   "execution_count": 1,
   "metadata": {},
   "outputs": [],
   "source": [
    "import graphviz\n",
    "from IPython.display import SVG\n",
    "from IPython.core.display import display"
   ]
  },
  {
   "cell_type": "code",
   "execution_count": 2,
   "metadata": {},
   "outputs": [
    {
     "name": "stdout",
     "output_type": "stream",
     "text": [
      "// The Round Table\n",
      "digraph {\n",
      "}\n"
     ]
    }
   ],
   "source": [
    "dag = graphviz.Digraph(format=\"svg\", comment='The Round Table')\n",
    "print(dag)"
   ]
  },
  {
   "cell_type": "code",
   "execution_count": 3,
   "metadata": {},
   "outputs": [],
   "source": [
    "dag.node('A', 'King Arthur')\n",
    "dag.node('B', 'Sir Bedevere the Wise')\n",
    "dag.node('L', 'Sir Lancelot the Brave')\n",
    "dag.edges(['AB', 'AL'])\n",
    "dag.edge('B', 'L', constraint='false')"
   ]
  },
  {
   "cell_type": "code",
   "execution_count": 4,
   "metadata": {},
   "outputs": [
    {
     "name": "stdout",
     "output_type": "stream",
     "text": [
      "// The Round Table\n",
      "digraph {\n",
      "\tA [label=\"King Arthur\"]\n",
      "\tB [label=\"Sir Bedevere the Wise\"]\n",
      "\tL [label=\"Sir Lancelot the Brave\"]\n",
      "\tA -> B\n",
      "\tA -> L\n",
      "\tB -> L [constraint=false]\n",
      "}\n"
     ]
    }
   ],
   "source": [
    "print(dag)"
   ]
  },
  {
   "cell_type": "code",
   "execution_count": 5,
   "metadata": {},
   "outputs": [
    {
     "data": {
      "image/svg+xml": [
       "<svg height=\"116pt\" viewBox=\"0.00 0.00 396.23 116.00\" width=\"396pt\" xmlns=\"http://www.w3.org/2000/svg\" xmlns:xlink=\"http://www.w3.org/1999/xlink\">\n",
       "<g class=\"graph\" id=\"graph0\" transform=\"scale(1 1) rotate(0) translate(4 112)\">\n",
       "<title>%3</title>\n",
       "<polygon fill=\"#ffffff\" points=\"-4,4 -4,-112 392.2336,-112 392.2336,4 -4,4\" stroke=\"transparent\"/>\n",
       "<!-- A -->\n",
       "<g class=\"node\" id=\"node1\">\n",
       "<title>A</title>\n",
       "<ellipse cx=\"193.2918\" cy=\"-90\" fill=\"none\" rx=\"55.4913\" ry=\"18\" stroke=\"#000000\"/>\n",
       "<text fill=\"#000000\" font-family=\"Times,serif\" font-size=\"14.00\" text-anchor=\"middle\" x=\"193.2918\" y=\"-86.3\">King Arthur</text>\n",
       "</g>\n",
       "<!-- B -->\n",
       "<g class=\"node\" id=\"node2\">\n",
       "<title>B</title>\n",
       "<ellipse cx=\"92.2918\" cy=\"-18\" fill=\"none\" rx=\"92.0841\" ry=\"18\" stroke=\"#000000\"/>\n",
       "<text fill=\"#000000\" font-family=\"Times,serif\" font-size=\"14.00\" text-anchor=\"middle\" x=\"92.2918\" y=\"-14.3\">Sir Bedevere the Wise</text>\n",
       "</g>\n",
       "<!-- A&#45;&gt;B -->\n",
       "<g class=\"edge\" id=\"edge1\">\n",
       "<title>A-&gt;B</title>\n",
       "<path d=\"M170.1204,-73.4817C156.7808,-63.9723 139.8006,-51.8677 125.1068,-41.3928\" fill=\"none\" stroke=\"#000000\"/>\n",
       "<polygon fill=\"#000000\" points=\"126.9387,-38.4005 116.7642,-35.4457 122.8754,-44.1005 126.9387,-38.4005\" stroke=\"#000000\"/>\n",
       "</g>\n",
       "<!-- L -->\n",
       "<g class=\"node\" id=\"node3\">\n",
       "<title>L</title>\n",
       "<ellipse cx=\"295.2918\" cy=\"-18\" fill=\"none\" rx=\"92.8835\" ry=\"18\" stroke=\"#000000\"/>\n",
       "<text fill=\"#000000\" font-family=\"Times,serif\" font-size=\"14.00\" text-anchor=\"middle\" x=\"295.2918\" y=\"-14.3\">Sir Lancelot the Brave</text>\n",
       "</g>\n",
       "<!-- A&#45;&gt;L -->\n",
       "<g class=\"edge\" id=\"edge2\">\n",
       "<title>A-&gt;L</title>\n",
       "<path d=\"M216.6927,-73.4817C230.1643,-63.9723 247.3126,-51.8677 262.152,-41.3928\" fill=\"none\" stroke=\"#000000\"/>\n",
       "<polygon fill=\"#000000\" points=\"264.4258,-44.072 270.5771,-35.4457 260.389,-38.3532 264.4258,-44.072\" stroke=\"#000000\"/>\n",
       "</g>\n",
       "<!-- B&#45;&gt;L -->\n",
       "<g class=\"edge\" id=\"edge3\">\n",
       "<title>B-&gt;L</title>\n",
       "<path d=\"M184.6727,-18C187.0132,-18 189.3538,-18 191.6944,-18\" fill=\"none\" stroke=\"#000000\"/>\n",
       "<polygon fill=\"#000000\" points=\"191.9569,-21.5001 201.9569,-18 191.9569,-14.5001 191.9569,-21.5001\" stroke=\"#000000\"/>\n",
       "</g>\n",
       "</g>\n",
       "</svg>"
      ],
      "text/plain": [
       "<IPython.core.display.SVG object>"
      ]
     },
     "metadata": {},
     "output_type": "display_data"
    }
   ],
   "source": [
    "display(SVG(dag.render()))"
   ]
  },
  {
   "cell_type": "code",
   "execution_count": 8,
   "metadata": {},
   "outputs": [
    {
     "data": {
      "text/plain": [
       "['__class__',\n",
       " '__delattr__',\n",
       " '__dict__',\n",
       " '__dir__',\n",
       " '__doc__',\n",
       " '__eq__',\n",
       " '__format__',\n",
       " '__ge__',\n",
       " '__getattribute__',\n",
       " '__gt__',\n",
       " '__hash__',\n",
       " '__init__',\n",
       " '__init_subclass__',\n",
       " '__iter__',\n",
       " '__le__',\n",
       " '__lt__',\n",
       " '__module__',\n",
       " '__ne__',\n",
       " '__new__',\n",
       " '__reduce__',\n",
       " '__reduce_ex__',\n",
       " '__repr__',\n",
       " '__setattr__',\n",
       " '__sizeof__',\n",
       " '__str__',\n",
       " '__subclasshook__',\n",
       " '__weakref__',\n",
       " '_a_list',\n",
       " '_attr',\n",
       " '_attr_list',\n",
       " '_attr_plain',\n",
       " '_comment',\n",
       " '_default_extension',\n",
       " '_edge',\n",
       " '_edge_plain',\n",
       " '_encoding',\n",
       " '_engine',\n",
       " '_format',\n",
       " '_head',\n",
       " '_head_strict',\n",
       " '_kwargs',\n",
       " '_node',\n",
       " '_quote',\n",
       " '_quote_edge',\n",
       " '_repr_svg_',\n",
       " '_subgraph',\n",
       " '_subgraph_plain',\n",
       " '_tail',\n",
       " '_view',\n",
       " '_view_darwin',\n",
       " '_view_freebsd',\n",
       " '_view_linux',\n",
       " '_view_windows',\n",
       " 'attr',\n",
       " 'body',\n",
       " 'clear',\n",
       " 'comment',\n",
       " 'copy',\n",
       " 'directed',\n",
       " 'directory',\n",
       " 'edge',\n",
       " 'edge_attr',\n",
       " 'edges',\n",
       " 'encoding',\n",
       " 'engine',\n",
       " 'filename',\n",
       " 'filepath',\n",
       " 'format',\n",
       " 'graph_attr',\n",
       " 'name',\n",
       " 'node',\n",
       " 'node_attr',\n",
       " 'pipe',\n",
       " 'render',\n",
       " 'save',\n",
       " 'source',\n",
       " 'strict',\n",
       " 'subgraph',\n",
       " 'view']"
      ]
     },
     "execution_count": 8,
     "metadata": {},
     "output_type": "execute_result"
    }
   ],
   "source": [
    "dir(dag)"
   ]
  },
  {
   "cell_type": "code",
   "execution_count": null,
   "metadata": {},
   "outputs": [],
   "source": []
  }
 ],
 "metadata": {
  "kernelspec": {
   "display_name": "Python 3",
   "language": "python",
   "name": "python3"
  },
  "language_info": {
   "codemirror_mode": {
    "name": "ipython",
    "version": 3
   },
   "file_extension": ".py",
   "mimetype": "text/x-python",
   "name": "python",
   "nbconvert_exporter": "python",
   "pygments_lexer": "ipython3",
   "version": "3.7.3"
  }
 },
 "nbformat": 4,
 "nbformat_minor": 2
}
